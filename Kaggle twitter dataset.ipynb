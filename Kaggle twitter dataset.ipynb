{
 "cells": [
  {
   "cell_type": "code",
   "execution_count": 1,
   "id": "13809be4-ccca-4ec4-a673-29c98c48815d",
   "metadata": {},
   "outputs": [
    {
     "name": "stderr",
     "output_type": "stream",
     "text": [
      "F:\\Applications\\Anaconda\\lib\\site-packages\\IPython\\core\\interactiveshell.py:3444: DtypeWarning: Columns (5,6,7,12) have mixed types.Specify dtype option on import or set low_memory=False.\n",
      "  exec(code_obj, self.user_global_ns, self.user_ns)\n"
     ]
    }
   ],
   "source": [
    "import pandas as pd\n",
    "import numpy as np\n",
    "\n",
    "df = pd.read_csv('Bitcoin_tweets.csv')\n"
   ]
  },
  {
   "cell_type": "code",
   "execution_count": 84,
   "id": "7a945dab-6ff5-45f0-a6b0-fcdb010d27bd",
   "metadata": {},
   "outputs": [],
   "source": [
    "import re\n",
    "import matplotlib.pyplot as plt"
   ]
  },
  {
   "cell_type": "code",
   "execution_count": 154,
   "id": "4c35ef1d-4f7e-4a54-94f8-fb98dba293f3",
   "metadata": {},
   "outputs": [],
   "source": [
    "prices = pd.read_csv('BTC-USD.csv')"
   ]
  },
  {
   "cell_type": "code",
   "execution_count": 3,
   "id": "98ecb0a1-8d03-4936-a982-4ec277a53b80",
   "metadata": {},
   "outputs": [
    {
     "data": {
      "text/html": [
       "<div>\n",
       "<style scoped>\n",
       "    .dataframe tbody tr th:only-of-type {\n",
       "        vertical-align: middle;\n",
       "    }\n",
       "\n",
       "    .dataframe tbody tr th {\n",
       "        vertical-align: top;\n",
       "    }\n",
       "\n",
       "    .dataframe thead th {\n",
       "        text-align: right;\n",
       "    }\n",
       "</style>\n",
       "<table border=\"1\" class=\"dataframe\">\n",
       "  <thead>\n",
       "    <tr style=\"text-align: right;\">\n",
       "      <th></th>\n",
       "      <th>user_name</th>\n",
       "      <th>user_location</th>\n",
       "      <th>user_description</th>\n",
       "      <th>user_created</th>\n",
       "      <th>user_followers</th>\n",
       "      <th>user_friends</th>\n",
       "      <th>user_favourites</th>\n",
       "      <th>user_verified</th>\n",
       "      <th>date</th>\n",
       "      <th>text</th>\n",
       "      <th>hashtags</th>\n",
       "      <th>source</th>\n",
       "      <th>is_retweet</th>\n",
       "    </tr>\n",
       "  </thead>\n",
       "  <tbody>\n",
       "    <tr>\n",
       "      <th>0</th>\n",
       "      <td>DeSota Wilson</td>\n",
       "      <td>Atlanta, GA</td>\n",
       "      <td>Biz Consultant, real estate, fintech, startups...</td>\n",
       "      <td>2009-04-26 20:05:09</td>\n",
       "      <td>8534.0</td>\n",
       "      <td>7605</td>\n",
       "      <td>4838</td>\n",
       "      <td>False</td>\n",
       "      <td>2021-02-10 23:59:04</td>\n",
       "      <td>Blue Ridge Bank shares halted by NYSE after #b...</td>\n",
       "      <td>['bitcoin']</td>\n",
       "      <td>Twitter Web App</td>\n",
       "      <td>False</td>\n",
       "    </tr>\n",
       "    <tr>\n",
       "      <th>1</th>\n",
       "      <td>CryptoND</td>\n",
       "      <td>NaN</td>\n",
       "      <td>😎 BITCOINLIVE is a Dutch platform aimed at inf...</td>\n",
       "      <td>2019-10-17 20:12:10</td>\n",
       "      <td>6769.0</td>\n",
       "      <td>1532</td>\n",
       "      <td>25483</td>\n",
       "      <td>False</td>\n",
       "      <td>2021-02-10 23:58:48</td>\n",
       "      <td>😎 Today, that's this #Thursday, we will do a \"...</td>\n",
       "      <td>['Thursday', 'Btc', 'wallet', 'security']</td>\n",
       "      <td>Twitter for Android</td>\n",
       "      <td>False</td>\n",
       "    </tr>\n",
       "    <tr>\n",
       "      <th>2</th>\n",
       "      <td>Tdlmatias</td>\n",
       "      <td>London, England</td>\n",
       "      <td>IM Academy : The best #forex, #SelfEducation, ...</td>\n",
       "      <td>2014-11-10 10:50:37</td>\n",
       "      <td>128.0</td>\n",
       "      <td>332</td>\n",
       "      <td>924</td>\n",
       "      <td>False</td>\n",
       "      <td>2021-02-10 23:54:48</td>\n",
       "      <td>Guys evening, I have read this article about B...</td>\n",
       "      <td>NaN</td>\n",
       "      <td>Twitter Web App</td>\n",
       "      <td>False</td>\n",
       "    </tr>\n",
       "    <tr>\n",
       "      <th>3</th>\n",
       "      <td>Crypto is the future</td>\n",
       "      <td>NaN</td>\n",
       "      <td>I will post a lot of buying signals for BTC tr...</td>\n",
       "      <td>2019-09-28 16:48:12</td>\n",
       "      <td>625.0</td>\n",
       "      <td>129</td>\n",
       "      <td>14</td>\n",
       "      <td>False</td>\n",
       "      <td>2021-02-10 23:54:33</td>\n",
       "      <td>$BTC A big chance in a billion! Price: \\487264...</td>\n",
       "      <td>['Bitcoin', 'FX', 'BTC', 'crypto']</td>\n",
       "      <td>dlvr.it</td>\n",
       "      <td>False</td>\n",
       "    </tr>\n",
       "    <tr>\n",
       "      <th>4</th>\n",
       "      <td>Alex Kirchmaier 🇦🇹🇸🇪 #FactsSuperspreader</td>\n",
       "      <td>Europa</td>\n",
       "      <td>Co-founder @RENJERJerky | Forbes 30Under30 | I...</td>\n",
       "      <td>2016-02-03 13:15:55</td>\n",
       "      <td>1249.0</td>\n",
       "      <td>1472</td>\n",
       "      <td>10482</td>\n",
       "      <td>False</td>\n",
       "      <td>2021-02-10 23:54:06</td>\n",
       "      <td>This network is secured by 9 508 nodes as of t...</td>\n",
       "      <td>['BTC']</td>\n",
       "      <td>Twitter Web App</td>\n",
       "      <td>False</td>\n",
       "    </tr>\n",
       "  </tbody>\n",
       "</table>\n",
       "</div>"
      ],
      "text/plain": [
       "                                  user_name    user_location  \\\n",
       "0                             DeSota Wilson      Atlanta, GA   \n",
       "1                                  CryptoND              NaN   \n",
       "2                                 Tdlmatias  London, England   \n",
       "3                      Crypto is the future              NaN   \n",
       "4  Alex Kirchmaier 🇦🇹🇸🇪 #FactsSuperspreader           Europa   \n",
       "\n",
       "                                    user_description         user_created  \\\n",
       "0  Biz Consultant, real estate, fintech, startups...  2009-04-26 20:05:09   \n",
       "1  😎 BITCOINLIVE is a Dutch platform aimed at inf...  2019-10-17 20:12:10   \n",
       "2  IM Academy : The best #forex, #SelfEducation, ...  2014-11-10 10:50:37   \n",
       "3  I will post a lot of buying signals for BTC tr...  2019-09-28 16:48:12   \n",
       "4  Co-founder @RENJERJerky | Forbes 30Under30 | I...  2016-02-03 13:15:55   \n",
       "\n",
       "   user_followers user_friends user_favourites user_verified  \\\n",
       "0          8534.0         7605            4838         False   \n",
       "1          6769.0         1532           25483         False   \n",
       "2           128.0          332             924         False   \n",
       "3           625.0          129              14         False   \n",
       "4          1249.0         1472           10482         False   \n",
       "\n",
       "                  date                                               text  \\\n",
       "0  2021-02-10 23:59:04  Blue Ridge Bank shares halted by NYSE after #b...   \n",
       "1  2021-02-10 23:58:48  😎 Today, that's this #Thursday, we will do a \"...   \n",
       "2  2021-02-10 23:54:48  Guys evening, I have read this article about B...   \n",
       "3  2021-02-10 23:54:33  $BTC A big chance in a billion! Price: \\487264...   \n",
       "4  2021-02-10 23:54:06  This network is secured by 9 508 nodes as of t...   \n",
       "\n",
       "                                    hashtags               source is_retweet  \n",
       "0                                ['bitcoin']      Twitter Web App      False  \n",
       "1  ['Thursday', 'Btc', 'wallet', 'security']  Twitter for Android      False  \n",
       "2                                        NaN      Twitter Web App      False  \n",
       "3         ['Bitcoin', 'FX', 'BTC', 'crypto']              dlvr.it      False  \n",
       "4                                    ['BTC']      Twitter Web App      False  "
      ]
     },
     "execution_count": 3,
     "metadata": {},
     "output_type": "execute_result"
    }
   ],
   "source": [
    "df.head()"
   ]
  },
  {
   "cell_type": "code",
   "execution_count": 4,
   "id": "59982e8c-a9f0-49ef-b18c-02fbf7486c29",
   "metadata": {},
   "outputs": [
    {
     "data": {
      "text/plain": [
       "str"
      ]
     },
     "execution_count": 4,
     "metadata": {},
     "output_type": "execute_result"
    }
   ],
   "source": [
    "type(df['date'].iloc[0])"
   ]
  },
  {
   "cell_type": "code",
   "execution_count": 12,
   "id": "26ed3238-aaf6-441a-bc64-97cf47443d3c",
   "metadata": {},
   "outputs": [
    {
     "name": "stdout",
     "output_type": "stream",
     "text": [
      "<class 'pandas.core.frame.DataFrame'>\n",
      "RangeIndex: 2339177 entries, 0 to 2339176\n",
      "Data columns (total 13 columns):\n",
      " #   Column            Dtype  \n",
      "---  ------            -----  \n",
      " 0   user_name         object \n",
      " 1   user_location     object \n",
      " 2   user_description  object \n",
      " 3   user_created      object \n",
      " 4   user_followers    float64\n",
      " 5   user_friends      object \n",
      " 6   user_favourites   object \n",
      " 7   user_verified     object \n",
      " 8   date              object \n",
      " 9   text              object \n",
      " 10  hashtags          object \n",
      " 11  source            object \n",
      " 12  is_retweet        object \n",
      "dtypes: float64(1), object(12)\n",
      "memory usage: 232.0+ MB\n"
     ]
    }
   ],
   "source": [
    "df.info()"
   ]
  },
  {
   "cell_type": "code",
   "execution_count": 54,
   "id": "200dbdb3-a966-42f5-a3f0-e8a2024edfd0",
   "metadata": {},
   "outputs": [
    {
     "name": "stdout",
     "output_type": "stream",
     "text": [
      "0\n",
      "0\n"
     ]
    },
    {
     "data": {
      "text/plain": [
       "user_name           2339083\n",
       "user_location       1205233\n",
       "user_description    2058148\n",
       "user_created        2339114\n",
       "user_followers      2339114\n",
       "user_friends        2339114\n",
       "user_favourites     2339114\n",
       "user_verified       2339114\n",
       "date                2339114\n",
       "text                2339114\n",
       "hashtags            2322105\n",
       "source              2335537\n",
       "is_retweet          2338851\n",
       "datetime            2339114\n",
       "dtype: int64"
      ]
     },
     "execution_count": 54,
     "metadata": {},
     "output_type": "execute_result"
    }
   ],
   "source": [
    "print(df.date.isna().sum())\n",
    "df = df.dropna(axis=0,subset=['date'])\n",
    "print(df.date.isna().sum())\n",
    "df.count()"
   ]
  },
  {
   "cell_type": "code",
   "execution_count": 132,
   "id": "74a8f7b7-7daa-4814-aa2d-ab7b7fa78152",
   "metadata": {},
   "outputs": [],
   "source": [
    "regex = '\\d{4}\\\\-\\d\\d\\\\-\\d\\d \\d\\d\\\\:\\d\\d\\\\:\\d\\d'\n",
    "remove = df.date.str.match(regex)"
   ]
  },
  {
   "cell_type": "code",
   "execution_count": 138,
   "id": "7c9b5662-165f-442a-b2d5-ce9968c55dde",
   "metadata": {},
   "outputs": [
    {
     "name": "stdout",
     "output_type": "stream",
     "text": [
      "64943      False\n",
      "137068     False\n",
      "180575     False\n",
      "693194     False\n",
      "697397     False\n",
      "1067665    False\n",
      "1347699    False\n",
      "1393938    False\n",
      "1513850    False\n",
      "1611481    False\n",
      "1811149    False\n",
      "Name: date, dtype: bool\n"
     ]
    }
   ],
   "source": [
    "remove = remove[remove == False]\n",
    "print(remove)"
   ]
  },
  {
   "cell_type": "code",
   "execution_count": 139,
   "id": "652fd49f-4da6-4ad6-91f1-e1c8b7e68fa8",
   "metadata": {},
   "outputs": [
    {
     "name": "stdout",
     "output_type": "stream",
     "text": [
      "Int64Index([  64943,  137068,  180575,  693194,  697397, 1067665, 1347699,\n",
      "            1393938, 1513850, 1611481, 1811149],\n",
      "           dtype='int64')\n"
     ]
    }
   ],
   "source": [
    "remove_index = remove.index\n",
    "print(remove_index)"
   ]
  },
  {
   "cell_type": "code",
   "execution_count": 143,
   "id": "612b490d-7120-46f2-8b7b-da18860b73a7",
   "metadata": {},
   "outputs": [],
   "source": [
    "df.drop(index=remove_index,inplace=True)"
   ]
  },
  {
   "cell_type": "code",
   "execution_count": 144,
   "id": "6c70fd18-01f4-4687-b632-6fabdc757c21",
   "metadata": {},
   "outputs": [
    {
     "data": {
      "text/plain": [
       "user_name            object\n",
       "user_location        object\n",
       "user_description     object\n",
       "user_created         object\n",
       "user_followers      float64\n",
       "user_friends         object\n",
       "user_favourites      object\n",
       "user_verified        object\n",
       "date                 object\n",
       "text                 object\n",
       "hashtags             object\n",
       "source               object\n",
       "is_retweet           object\n",
       "datetime             object\n",
       "dtype: object"
      ]
     },
     "execution_count": 144,
     "metadata": {},
     "output_type": "execute_result"
    }
   ],
   "source": [
    "df.dtypes"
   ]
  },
  {
   "cell_type": "code",
   "execution_count": 146,
   "id": "6a0dcebd-037c-400f-84bd-221a37fa8615",
   "metadata": {},
   "outputs": [],
   "source": [
    "df['datetime'] = pd.to_datetime(df['date'],errors='coerce', format=\"%Y-%m-%d %H:%M:%S\")"
   ]
  },
  {
   "cell_type": "code",
   "execution_count": 147,
   "id": "7055c6f9-6d32-480d-98f5-40ca2181db07",
   "metadata": {},
   "outputs": [],
   "source": [
    "dates = df['date'].str.split(' ').str.get(0)"
   ]
  },
  {
   "cell_type": "code",
   "execution_count": 148,
   "id": "ba6a910e-2446-4752-a0f8-77c9721a8a5d",
   "metadata": {},
   "outputs": [],
   "source": [
    "date_counts = dates.value_counts()"
   ]
  },
  {
   "cell_type": "code",
   "execution_count": 149,
   "id": "952d5bd5-4e61-4cd6-bd56-e5aea23c1cae",
   "metadata": {},
   "outputs": [],
   "source": [
    "date_counts.sort_index(inplace=True)"
   ]
  },
  {
   "cell_type": "code",
   "execution_count": 160,
   "id": "de2aee13-1dfc-473f-9ae3-ce630c0237c8",
   "metadata": {},
   "outputs": [
    {
     "data": {
      "text/plain": [
       "<bound method NDFrame.describe of 2021-02-05     1694\n",
       "2021-02-06     3278\n",
       "2021-02-07     3030\n",
       "2021-02-08     5647\n",
       "2021-02-09     4350\n",
       "              ...  \n",
       "2022-02-14     5348\n",
       "2022-02-15     8833\n",
       "2022-02-16     3545\n",
       "2022-02-17    18248\n",
       "2022-02-18    18216\n",
       "Name: date, Length: 115, dtype: int64>"
      ]
     },
     "execution_count": 160,
     "metadata": {},
     "output_type": "execute_result"
    }
   ],
   "source": [
    "date_counts.describe"
   ]
  },
  {
   "cell_type": "code",
   "execution_count": 158,
   "id": "b0349292-b1eb-402b-98a7-459a05020be2",
   "metadata": {},
   "outputs": [
    {
     "data": {
      "text/plain": [
       "0      2021-02-05\n",
       "1      2021-02-06\n",
       "2      2021-02-07\n",
       "3      2021-02-08\n",
       "4      2021-02-09\n",
       "          ...    \n",
       "374    2022-02-14\n",
       "375    2022-02-15\n",
       "376    2022-02-16\n",
       "377    2022-02-17\n",
       "378    2022-02-18\n",
       "Name: Date, Length: 379, dtype: object"
      ]
     },
     "execution_count": 158,
     "metadata": {},
     "output_type": "execute_result"
    }
   ],
   "source": [
    "prices.Date"
   ]
  },
  {
   "cell_type": "code",
   "execution_count": 169,
   "id": "6ebf3a98-16b3-4425-a725-f4867d067511",
   "metadata": {},
   "outputs": [
    {
     "name": "stdout",
     "output_type": "stream",
     "text": [
      "Index(['2021-02-05', '2021-02-06', '2021-02-07', '2021-02-08', '2021-02-09',\n",
      "       '2021-02-10', '2021-02-11', '2021-02-12', '2021-02-13', '2021-02-14',\n",
      "       ...\n",
      "       '2022-02-09', '2022-02-10', '2022-02-11', '2022-02-12', '2022-02-13',\n",
      "       '2022-02-14', '2022-02-15', '2022-02-16', '2022-02-17', '2022-02-18'],\n",
      "      dtype='object', length=379)\n"
     ]
    }
   ],
   "source": [
    "dates_list = pd.date_range('2021-02-05', '2022-02-18').strftime('%Y-%m-%d')\n",
    "print(dates_list)"
   ]
  },
  {
   "cell_type": "code",
   "execution_count": 171,
   "id": "620cec69-77c2-4057-9775-6ae63d16450f",
   "metadata": {},
   "outputs": [
    {
     "name": "stderr",
     "output_type": "stream",
     "text": [
      "C:\\Users\\HINECA~1\\AppData\\Local\\Temp/ipykernel_14388/1566718257.py:1: DeprecationWarning: The default dtype for empty Series will be 'object' instead of 'float64' in a future version. Specify a dtype explicitly to silence this warning.\n",
      "  dates_series = pd.Series(index = dates_list)\n"
     ]
    }
   ],
   "source": [
    "dates_series = pd.Series(index = dates_list)"
   ]
  },
  {
   "cell_type": "code",
   "execution_count": 179,
   "id": "9fea3af2-0563-4bbc-a1d8-fb1f3c55cdb8",
   "metadata": {},
   "outputs": [],
   "source": [
    "dates_series.fillna(0, inplace=True)"
   ]
  },
  {
   "cell_type": "code",
   "execution_count": 180,
   "id": "51c5a4e3-4fbb-4eea-8471-5bf6e25a5d48",
   "metadata": {},
   "outputs": [],
   "source": [
    "result = dates_series.combine(date_counts, max, fill_value=0)"
   ]
  },
  {
   "cell_type": "code",
   "execution_count": 181,
   "id": "b2fe6449-d6f7-4698-b006-3c02e0a589e0",
   "metadata": {},
   "outputs": [
    {
     "data": {
      "text/plain": [
       "<bound method NDFrame.describe of 2021-02-05     1694.0\n",
       "2021-02-06     3278.0\n",
       "2021-02-07     3030.0\n",
       "2021-02-08     5647.0\n",
       "2021-02-09     4350.0\n",
       "               ...   \n",
       "2022-02-14     5348.0\n",
       "2022-02-15     8833.0\n",
       "2022-02-16     3545.0\n",
       "2022-02-17    18248.0\n",
       "2022-02-18    18216.0\n",
       "Length: 379, dtype: float64>"
      ]
     },
     "execution_count": 181,
     "metadata": {},
     "output_type": "execute_result"
    }
   ],
   "source": [
    "result.describe"
   ]
  },
  {
   "cell_type": "code",
   "execution_count": 187,
   "id": "91649040-0566-466d-86b1-d595a2f9a864",
   "metadata": {},
   "outputs": [
    {
     "data": {
      "text/html": [
       "<div>\n",
       "<style scoped>\n",
       "    .dataframe tbody tr th:only-of-type {\n",
       "        vertical-align: middle;\n",
       "    }\n",
       "\n",
       "    .dataframe tbody tr th {\n",
       "        vertical-align: top;\n",
       "    }\n",
       "\n",
       "    .dataframe thead th {\n",
       "        text-align: right;\n",
       "    }\n",
       "</style>\n",
       "<table border=\"1\" class=\"dataframe\">\n",
       "  <thead>\n",
       "    <tr style=\"text-align: right;\">\n",
       "      <th></th>\n",
       "      <th>Open</th>\n",
       "      <th>High</th>\n",
       "      <th>Low</th>\n",
       "      <th>Close</th>\n",
       "      <th>Adj Close</th>\n",
       "      <th>Volume</th>\n",
       "    </tr>\n",
       "  </thead>\n",
       "  <tbody>\n",
       "    <tr>\n",
       "      <th>count</th>\n",
       "      <td>379.000000</td>\n",
       "      <td>379.000000</td>\n",
       "      <td>379.000000</td>\n",
       "      <td>379.000000</td>\n",
       "      <td>379.000000</td>\n",
       "      <td>3.790000e+02</td>\n",
       "    </tr>\n",
       "    <tr>\n",
       "      <th>mean</th>\n",
       "      <td>47813.473373</td>\n",
       "      <td>49077.830233</td>\n",
       "      <td>46346.319019</td>\n",
       "      <td>47811.560356</td>\n",
       "      <td>47811.560356</td>\n",
       "      <td>4.258828e+10</td>\n",
       "    </tr>\n",
       "    <tr>\n",
       "      <th>std</th>\n",
       "      <td>9116.366073</td>\n",
       "      <td>9203.924408</td>\n",
       "      <td>9024.426710</td>\n",
       "      <td>9099.256822</td>\n",
       "      <td>9099.256822</td>\n",
       "      <td>2.380144e+10</td>\n",
       "    </tr>\n",
       "    <tr>\n",
       "      <th>min</th>\n",
       "      <td>29796.285156</td>\n",
       "      <td>31006.187500</td>\n",
       "      <td>28893.621094</td>\n",
       "      <td>29807.347656</td>\n",
       "      <td>29807.347656</td>\n",
       "      <td>1.464355e+10</td>\n",
       "    </tr>\n",
       "    <tr>\n",
       "      <th>25%</th>\n",
       "      <td>40637.451172</td>\n",
       "      <td>42214.212890</td>\n",
       "      <td>39446.500000</td>\n",
       "      <td>40687.046875</td>\n",
       "      <td>40687.046875</td>\n",
       "      <td>2.975699e+10</td>\n",
       "    </tr>\n",
       "    <tr>\n",
       "      <th>50%</th>\n",
       "      <td>47623.871094</td>\n",
       "      <td>48791.781250</td>\n",
       "      <td>46424.976563</td>\n",
       "      <td>47504.851563</td>\n",
       "      <td>47504.851563</td>\n",
       "      <td>3.697417e+10</td>\n",
       "    </tr>\n",
       "    <tr>\n",
       "      <th>75%</th>\n",
       "      <td>56006.599610</td>\n",
       "      <td>57526.722657</td>\n",
       "      <td>54157.183593</td>\n",
       "      <td>56024.804688</td>\n",
       "      <td>56024.804688</td>\n",
       "      <td>5.174661e+10</td>\n",
       "    </tr>\n",
       "    <tr>\n",
       "      <th>max</th>\n",
       "      <td>67549.734375</td>\n",
       "      <td>68789.625000</td>\n",
       "      <td>66382.062500</td>\n",
       "      <td>67566.828125</td>\n",
       "      <td>67566.828125</td>\n",
       "      <td>3.509679e+11</td>\n",
       "    </tr>\n",
       "  </tbody>\n",
       "</table>\n",
       "</div>"
      ],
      "text/plain": [
       "               Open          High           Low         Close     Adj Close  \\\n",
       "count    379.000000    379.000000    379.000000    379.000000    379.000000   \n",
       "mean   47813.473373  49077.830233  46346.319019  47811.560356  47811.560356   \n",
       "std     9116.366073   9203.924408   9024.426710   9099.256822   9099.256822   \n",
       "min    29796.285156  31006.187500  28893.621094  29807.347656  29807.347656   \n",
       "25%    40637.451172  42214.212890  39446.500000  40687.046875  40687.046875   \n",
       "50%    47623.871094  48791.781250  46424.976563  47504.851563  47504.851563   \n",
       "75%    56006.599610  57526.722657  54157.183593  56024.804688  56024.804688   \n",
       "max    67549.734375  68789.625000  66382.062500  67566.828125  67566.828125   \n",
       "\n",
       "             Volume  \n",
       "count  3.790000e+02  \n",
       "mean   4.258828e+10  \n",
       "std    2.380144e+10  \n",
       "min    1.464355e+10  \n",
       "25%    2.975699e+10  \n",
       "50%    3.697417e+10  \n",
       "75%    5.174661e+10  \n",
       "max    3.509679e+11  "
      ]
     },
     "execution_count": 187,
     "metadata": {},
     "output_type": "execute_result"
    }
   ],
   "source": [
    "prices.describe()"
   ]
  },
  {
   "cell_type": "code",
   "execution_count": 198,
   "id": "1f8a983f-a8af-48f0-9034-84698af88ac4",
   "metadata": {},
   "outputs": [
    {
     "data": {
      "image/png": "[encoded data removed]",
      "text/plain": [
       "<Figure size 432x288 with 2 Axes>"
      ]
     },
     "metadata": {
      "needs_background": "light"
     },
     "output_type": "display_data"
    }
   ],
   "source": [
    "fig, ax = plt.subplots()\n",
    "ax.plot(result.index,result, color='r')\n",
    "ax2 = ax.twinx()\n",
    "ax2.plot(prices.Date,prices.Open, color='b')\n",
    "ax.set_ylim(0,80000)\n",
    "ax2.set_ylim(25000,70000)\n",
    "ax.set_ylabel('Number of tweets', color='r')\n",
    "ax2.set_ylabel('Price', color='b')\n",
    "plt.show()"
   ]
  },
  {
   "cell_type": "code",
   "execution_count": 200,
   "id": "f7861aa6-8eac-4d7d-8410-88d1f4df05f6",
   "metadata": {},
   "outputs": [],
   "source": [
    "tweets_filled_one = dates_series.combine(date_counts, max, fill_value=1)\n",
    "log_tweets_number = np.log(tweets_filled_one.values)"
   ]
  },
  {
   "cell_type": "code",
   "execution_count": 201,
   "id": "acc06f5e-7830-4c6d-b7f8-adbf407f243e",
   "metadata": {},
   "outputs": [],
   "source": [
    "log_series = pd.Series(data= log_tweets_number, index=result.index)"
   ]
  },
  {
   "cell_type": "code",
   "execution_count": 206,
   "id": "3b4778f8-5b28-4dcc-98db-69772d4241c0",
   "metadata": {},
   "outputs": [
    {
     "data": {
      "image/png": "[encoded data removed]",
      "text/plain": [
       "<Figure size 432x288 with 2 Axes>"
      ]
     },
     "metadata": {
      "needs_background": "light"
     },
     "output_type": "display_data"
    }
   ],
   "source": [
    "fig, ax = plt.subplots()\n",
    "ax.plot(log_series.index,log_series, color='r')\n",
    "ax2 = ax.twinx()\n",
    "ax2.plot(prices.Date,prices.Open, color='b')\n",
    "ax.set_ylim(0,12)\n",
    "ax2.set_ylim(25000,70000)\n",
    "ax.set_ylabel('Number of tweets', color='r')\n",
    "ax2.set_ylabel('Price', color='b')\n",
    "plt.show()"
   ]
  },
  {
   "cell_type": "code",
   "execution_count": null,
   "id": "5639c6da-d892-4426-b82d-34fcc4c73c39",
   "metadata": {},
   "outputs": [],
   "source": []
  }
 ],
 "metadata": {
  "kernelspec": {
   "display_name": "Python 3 (ipykernel)",
   "language": "python",
   "name": "python3"
  },
  "language_info": {
   "codemirror_mode": {
    "name": "ipython",
    "version": 3
   },
   "file_extension": ".py",
   "mimetype": "text/x-python",
   "name": "python",
   "nbconvert_exporter": "python",
   "pygments_lexer": "ipython3",
   "version": "3.9.7"
  }
 },
 "nbformat": 4,
 "nbformat_minor": 5
}
